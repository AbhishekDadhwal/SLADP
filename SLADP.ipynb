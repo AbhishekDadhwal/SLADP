{
 "cells": [
  {
   "cell_type": "code",
   "execution_count": null,
   "id": "b2f453d6-cb7a-471f-aedd-867d4b022679",
   "metadata": {},
   "outputs": [],
   "source": [
    "import pandas as pd\n",
    "import random\n",
    "import time\n",
    "from datetime import datetime\n",
    "\n",
    "# Real-time log details\n",
    "log_levels = ['INFO', 'ERROR', 'WARNING']\n",
    "messages = {\n",
    "    'INFO': ['Operation successful', 'User logged in', 'Data saved'],\n",
    "    'ERROR': ['Failed login attempt', 'Database connection lost', 'Service timeout'],\n",
    "    'WARNING': ['Memory usage high', 'Disk space low', 'CPU overload']\n",
    "}\n",
    "ip_addresses = ['192.168.1.' + str(random.randint(1, 255)) for _ in range(20)]\n",
    "\n",
    "# Real-time log generator\n",
    "def generate_log():\n",
    "    log_level = random.choices(log_levels, weights=[70, 20, 10])[0]\n",
    "    message = random.choice(messages[log_level])\n",
    "    ip = random.choice(ip_addresses)\n",
    "    \n",
    "    log = {\n",
    "        'timestamp': datetime.now().isoformat(),\n",
    "        'level': log_level,\n",
    "        'message': message,\n",
    "        'ip': ip\n",
    "    }\n",
    "\n",
    "    print log\n",
    "    return log\n",
    "\n",
    "# Continuous log generation and saving to a CSV file\n",
    "while True:\n",
    "    log = generate_log()\n",
    "    df = pd.DataFrame([log])\n",
    "    df.to_csv('realtime_logs.csv', mode='a', header=not pd.io.common.file_exists('realtime_logs.csv'), index=False)\n",
    "    time.sleep(1)  # Generate log every second\n"
   ]
  }
 ],
 "metadata": {
  "kernelspec": {
   "display_name": "Python 3 (ipykernel)",
   "language": "python",
   "name": "python3"
  },
  "language_info": {
   "codemirror_mode": {
    "name": "ipython",
    "version": 3
   },
   "file_extension": ".py",
   "mimetype": "text/x-python",
   "name": "python",
   "nbconvert_exporter": "python",
   "pygments_lexer": "ipython3",
   "version": "3.13.0"
  }
 },
 "nbformat": 4,
 "nbformat_minor": 5
}
